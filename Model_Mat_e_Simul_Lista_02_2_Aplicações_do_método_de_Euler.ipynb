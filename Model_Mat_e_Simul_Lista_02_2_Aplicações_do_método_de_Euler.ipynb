{
  "nbformat": 4,
  "nbformat_minor": 0,
  "metadata": {
    "colab": {
      "provenance": [],
      "authorship_tag": "ABX9TyOOBj3gjoSwQIiPLuPd/ZOA",
      "include_colab_link": true
    },
    "kernelspec": {
      "name": "python3",
      "display_name": "Python 3"
    },
    "language_info": {
      "name": "python"
    }
  },
  "cells": [
    {
      "cell_type": "markdown",
      "metadata": {
        "id": "view-in-github",
        "colab_type": "text"
      },
      "source": [
        "<a href=\"https://colab.research.google.com/github/lhjundi/Mathematical-Modeling-and-Process-Simulation/blob/main/Model_Mat_e_Simul_Lista_02_2_Aplica%C3%A7%C3%B5es_do_m%C3%A9todo_de_Euler.ipynb\" target=\"_parent\"><img src=\"https://colab.research.google.com/assets/colab-badge.svg\" alt=\"Open In Colab\"/></a>"
      ]
    },
    {
      "cell_type": "markdown",
      "source": [
        "INSTITUTO FEDERAL DE SÃO PAULO CAMPUS SALTO\n",
        "\n",
        "Lista de Exercício 01\n",
        "\n",
        "Nome: Lucas Jundi Hikazudani\n",
        "\n",
        "2. Resolva a EDO y'=y−x com as condições iniciais seguintes: y (0)=2 .\n",
        "Compare com a solução analítica da função, que é y= e^x + x + 1"
      ],
      "metadata": {
        "id": "quHmaK8z-z0Y"
      }
    },
    {
      "cell_type": "code",
      "source": [
        "import numpy as np\n",
        "import math\n",
        "import matplotlib.pyplot as plt\n",
        "### Parâmetros ###\n",
        "x_fim=1.\n",
        "N=20\n",
        "dx=x_fim/float(N)\n",
        "x=np.empty([N+1])\n",
        "y=np.empty([N+1])\n",
        "y2=np.empty([N+1])\n",
        "### Condição inicial ###\n",
        "x[0]=0.\n",
        "y[0]=2.\n",
        "y2[0]=2.\n",
        "### Condições seguintes ###\n",
        "for i in range (1,N+1,1):\n",
        "### Derivada ###\n",
        "    dydx=-x[i-1]+y[i-1]\n",
        "### Atualização ###\n",
        "    x[i]=x[i-1]+dx\n",
        "    y[i]=y[i-1]+dydx*dx\n",
        "    y2[i]=math.exp(x[i])+x[i]+1 #analítica\n",
        "### Resultados ###\n",
        "plt.plot(x,y,'r',label='numérico') #red\n",
        "plt.plot(x,y2,'g',label='analítico') #green\n",
        "plt.legend(loc='best')\n",
        "plt.xlabel('x')\n",
        "plt.grid()\n",
        "plt.show"
      ],
      "metadata": {
        "colab": {
          "base_uri": "https://localhost:8080/",
          "height": 296
        },
        "id": "GKFBIQVX-15T",
        "outputId": "1ef9eb93-0291-4439-85e2-b8849acde9ab"
      },
      "execution_count": null,
      "outputs": [
        {
          "output_type": "execute_result",
          "data": {
            "text/plain": [
              "<function matplotlib.pyplot.show(*args, **kw)>"
            ]
          },
          "metadata": {},
          "execution_count": 1
        },
        {
          "output_type": "display_data",
          "data": {
            "text/plain": [
              "<Figure size 432x288 with 1 Axes>"
            ],
            "image/png": "[encoded data removed]"
          },
          "metadata": {
            "needs_background": "light"
          }
        }
      ]
    }
  ]
}